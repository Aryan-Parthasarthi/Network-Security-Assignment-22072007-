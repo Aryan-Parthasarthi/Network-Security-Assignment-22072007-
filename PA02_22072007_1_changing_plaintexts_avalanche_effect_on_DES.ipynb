{
 "cells": [
  {
   "cell_type": "markdown",
   "id": "60529a7d",
   "metadata": {},
   "source": [
    "## 1. 5 plaintexts"
   ]
  },
  {
   "cell_type": "markdown",
   "id": "9d86ebdb",
   "metadata": {},
   "source": [
    "## Stage 1: defining functions to be used \n",
    "#### 1. encrypt : this fucntion will take plaintext and return ciphertext\n",
    "#### 2. getList : this function will return outputs from 16 round of DES\n",
    "#### 3. xorN\n",
    "#### 4. hd : returns hamming distances by calculating XOR bits"
   ]
  },
  {
   "cell_type": "code",
   "execution_count": 36,
   "id": "f6785438",
   "metadata": {},
   "outputs": [],
   "source": [
    "def hd(str1, str2):\n",
    "    str1=hex2bin(str1)\n",
    "    str2=hex2bin(str2)\n",
    "    distance = 0\n",
    "    for ch1, ch2 in zip(str1, str2):\n",
    "        if ch1 != ch2:\n",
    "            distance += 1\n",
    "    return distance"
   ]
  },
  {
   "cell_type": "code",
   "execution_count": 15,
   "id": "952238f2",
   "metadata": {},
   "outputs": [],
   "source": [
    "import random\n",
    "def xorN(s,n):\n",
    "    s=hex2bin(s)\n",
    "    indices=random.choices(list(range(64)),k=n)\n",
    "    ls=list(s)\n",
    "    #print(ls)\n",
    "    #print()\n",
    "    #print(indices)\n",
    "    for i in indices:\n",
    "        if ls[i]=='0':\n",
    "            ls[i]='1'\n",
    "        else:\n",
    "            ls[i]='0'\n",
    "    ans= \"\".join(ls)\n",
    "    return bin2hex(ans)\n",
    "        "
   ]
  },
  {
   "cell_type": "code",
   "execution_count": 1,
   "id": "7a0762d9",
   "metadata": {},
   "outputs": [],
   "source": [
    "def hex2bin(s):\n",
    "    mp = {'0': \"0000\",\n",
    "        '1': \"0001\",\n",
    "        '2': \"0010\",\n",
    "        '3': \"0011\",\n",
    "        '4': \"0100\",\n",
    "        '5': \"0101\",\n",
    "        '6': \"0110\",\n",
    "        '7': \"0111\",\n",
    "        '8': \"1000\",\n",
    "        '9': \"1001\",\n",
    "        'A': \"1010\",\n",
    "        'B': \"1011\",\n",
    "        'C': \"1100\",\n",
    "        'D': \"1101\",\n",
    "        'E': \"1110\",\n",
    "        'F': \"1111\"}\n",
    "    bin = \"\"\n",
    "    for i in range(len(s)):\n",
    "        bin = bin + mp[s[i]]\n",
    "    return bin\n",
    "def bin2hex(s):\n",
    "    mp = {\"0000\": '0',\n",
    "        \"0001\": '1',\n",
    "        \"0010\": '2',\n",
    "        \"0011\": '3',\n",
    "        \"0100\": '4',\n",
    "        \"0101\": '5',\n",
    "        \"0110\": '6',\n",
    "        \"0111\": '7',\n",
    "        \"1000\": '8',\n",
    "        \"1001\": '9',\n",
    "        \"1010\": 'A',\n",
    "        \"1011\": 'B',\n",
    "        \"1100\": 'C',\n",
    "        \"1101\": 'D',\n",
    "        \"1110\": 'E',\n",
    "        \"1111\": 'F'}\n",
    "    hex = \"\"\n",
    "    for i in range(0, len(s), 4):\n",
    "        ch = \"\"\n",
    "        ch = ch + s[i]\n",
    "        ch = ch + s[i + 1]\n",
    "        ch = ch + s[i + 2]\n",
    "        ch = ch + s[i + 3]\n",
    "        hex = hex + mp[ch]\n",
    "\n",
    "    return hex\n",
    "\n",
    "# Binary to decimal conversion\n",
    "\n",
    "\n",
    "def bin2dec(binary):\n",
    "\n",
    "    binary1 = binary\n",
    "    decimal, i, n = 0, 0, 0\n",
    "    while(binary != 0):\n",
    "        dec = binary % 10\n",
    "        decimal = decimal + dec * pow(2, i)\n",
    "        binary = binary//10\n",
    "        i += 1\n",
    "    return decimal\n",
    "\n",
    "# Decimal to binary conversion\n",
    "\n",
    "\n",
    "def dec2bin(num):\n",
    "    res = bin(num).replace(\"0b\", \"\")\n",
    "    if(len(res) % 4 != 0):\n",
    "        div = len(res) / 4\n",
    "        div = int(div)\n",
    "        counter = (4 * (div + 1)) - len(res)\n",
    "        for i in range(0, counter):\n",
    "            res = '0' + res\n",
    "    return res\n",
    "\n",
    "# Permute function to rearrange the bits\n",
    "\n",
    "\n",
    "def permute(k, arr, n):\n",
    "    permutation = \"\"\n",
    "    for i in range(0, n):\n",
    "        permutation = permutation + k[arr[i] - 1]\n",
    "    return permutation\n",
    "\n",
    "# shifting the bits towards left by nth shifts\n",
    "\n",
    "\n",
    "def shift_left(k, nth_shifts):\n",
    "    s = \"\"\n",
    "    for i in range(nth_shifts):\n",
    "        for j in range(1, len(k)):\n",
    "            s = s + k[j]\n",
    "        s = s + k[0]\n",
    "        k = s\n",
    "        s = \"\"\n",
    "    return k\n",
    "\n",
    "# calculating xow of two strings of binary number a and b\n",
    "\n",
    "\n",
    "def xor(a, b):\n",
    "    ans = \"\"\n",
    "    for i in range(len(a)):\n",
    "        if a[i] == b[i]:\n",
    "            ans = ans + \"0\"\n",
    "        else:\n",
    "            ans = ans + \"1\"\n",
    "    return ans\n",
    "\n",
    "\n",
    "# Table of Position of 64 bits at initial level: Initial Permutation Table\n",
    "initial_perm = [58, 50, 42, 34, 26, 18, 10, 2,\n",
    "                60, 52, 44, 36, 28, 20, 12, 4,\n",
    "                62, 54, 46, 38, 30, 22, 14, 6,\n",
    "                64, 56, 48, 40, 32, 24, 16, 8,\n",
    "                57, 49, 41, 33, 25, 17, 9, 1,\n",
    "                59, 51, 43, 35, 27, 19, 11, 3,\n",
    "                61, 53, 45, 37, 29, 21, 13, 5,\n",
    "                63, 55, 47, 39, 31, 23, 15, 7]\n",
    "\n",
    "# Expansion D-box Table\n",
    "exp_d = [32, 1, 2, 3, 4, 5, 4, 5,\n",
    "        6, 7, 8, 9, 8, 9, 10, 11,\n",
    "        12, 13, 12, 13, 14, 15, 16, 17,\n",
    "        16, 17, 18, 19, 20, 21, 20, 21,\n",
    "        22, 23, 24, 25, 24, 25, 26, 27,\n",
    "        28, 29, 28, 29, 30, 31, 32, 1]\n",
    "\n",
    "# Straight Permutation Table\n",
    "per = [16, 7, 20, 21,\n",
    "    29, 12, 28, 17,\n",
    "    1, 15, 23, 26,\n",
    "    5, 18, 31, 10,\n",
    "    2, 8, 24, 14,\n",
    "    32, 27, 3, 9,\n",
    "    19, 13, 30, 6,\n",
    "    22, 11, 4, 25]\n",
    "\n",
    "# S-box Table\n",
    "sbox = [[[14, 4, 13, 1, 2, 15, 11, 8, 3, 10, 6, 12, 5, 9, 0, 7],\n",
    "        [0, 15, 7, 4, 14, 2, 13, 1, 10, 6, 12, 11, 9, 5, 3, 8],\n",
    "        [4, 1, 14, 8, 13, 6, 2, 11, 15, 12, 9, 7, 3, 10, 5, 0],\n",
    "        [15, 12, 8, 2, 4, 9, 1, 7, 5, 11, 3, 14, 10, 0, 6, 13]],\n",
    "\n",
    "        [[15, 1, 8, 14, 6, 11, 3, 4, 9, 7, 2, 13, 12, 0, 5, 10],\n",
    "        [3, 13, 4, 7, 15, 2, 8, 14, 12, 0, 1, 10, 6, 9, 11, 5],\n",
    "        [0, 14, 7, 11, 10, 4, 13, 1, 5, 8, 12, 6, 9, 3, 2, 15],\n",
    "        [13, 8, 10, 1, 3, 15, 4, 2, 11, 6, 7, 12, 0, 5, 14, 9]],\n",
    "\n",
    "        [[10, 0, 9, 14, 6, 3, 15, 5, 1, 13, 12, 7, 11, 4, 2, 8],\n",
    "        [13, 7, 0, 9, 3, 4, 6, 10, 2, 8, 5, 14, 12, 11, 15, 1],\n",
    "        [13, 6, 4, 9, 8, 15, 3, 0, 11, 1, 2, 12, 5, 10, 14, 7],\n",
    "        [1, 10, 13, 0, 6, 9, 8, 7, 4, 15, 14, 3, 11, 5, 2, 12]],\n",
    "\n",
    "        [[7, 13, 14, 3, 0, 6, 9, 10, 1, 2, 8, 5, 11, 12, 4, 15],\n",
    "        [13, 8, 11, 5, 6, 15, 0, 3, 4, 7, 2, 12, 1, 10, 14, 9],\n",
    "        [10, 6, 9, 0, 12, 11, 7, 13, 15, 1, 3, 14, 5, 2, 8, 4],\n",
    "        [3, 15, 0, 6, 10, 1, 13, 8, 9, 4, 5, 11, 12, 7, 2, 14]],\n",
    "\n",
    "        [[2, 12, 4, 1, 7, 10, 11, 6, 8, 5, 3, 15, 13, 0, 14, 9],\n",
    "        [14, 11, 2, 12, 4, 7, 13, 1, 5, 0, 15, 10, 3, 9, 8, 6],\n",
    "        [4, 2, 1, 11, 10, 13, 7, 8, 15, 9, 12, 5, 6, 3, 0, 14],\n",
    "        [11, 8, 12, 7, 1, 14, 2, 13, 6, 15, 0, 9, 10, 4, 5, 3]],\n",
    "\n",
    "        [[12, 1, 10, 15, 9, 2, 6, 8, 0, 13, 3, 4, 14, 7, 5, 11],\n",
    "        [10, 15, 4, 2, 7, 12, 9, 5, 6, 1, 13, 14, 0, 11, 3, 8],\n",
    "        [9, 14, 15, 5, 2, 8, 12, 3, 7, 0, 4, 10, 1, 13, 11, 6],\n",
    "        [4, 3, 2, 12, 9, 5, 15, 10, 11, 14, 1, 7, 6, 0, 8, 13]],\n",
    "\n",
    "        [[4, 11, 2, 14, 15, 0, 8, 13, 3, 12, 9, 7, 5, 10, 6, 1],\n",
    "        [13, 0, 11, 7, 4, 9, 1, 10, 14, 3, 5, 12, 2, 15, 8, 6],\n",
    "        [1, 4, 11, 13, 12, 3, 7, 14, 10, 15, 6, 8, 0, 5, 9, 2],\n",
    "        [6, 11, 13, 8, 1, 4, 10, 7, 9, 5, 0, 15, 14, 2, 3, 12]],\n",
    "\n",
    "        [[13, 2, 8, 4, 6, 15, 11, 1, 10, 9, 3, 14, 5, 0, 12, 7],\n",
    "        [1, 15, 13, 8, 10, 3, 7, 4, 12, 5, 6, 11, 0, 14, 9, 2],\n",
    "        [7, 11, 4, 1, 9, 12, 14, 2, 0, 6, 10, 13, 15, 3, 5, 8],\n",
    "        [2, 1, 14, 7, 4, 10, 8, 13, 15, 12, 9, 0, 3, 5, 6, 11]]]\n",
    "\n",
    "# Final Permutation Table\n",
    "final_perm = [40, 8, 48, 16, 56, 24, 64, 32,\n",
    "            39, 7, 47, 15, 55, 23, 63, 31,\n",
    "            38, 6, 46, 14, 54, 22, 62, 30,\n",
    "            37, 5, 45, 13, 53, 21, 61, 29,\n",
    "            36, 4, 44, 12, 52, 20, 60, 28,\n",
    "            35, 3, 43, 11, 51, 19, 59, 27,\n",
    "            34, 2, 42, 10, 50, 18, 58, 26,\n",
    "            33, 1, 41, 9, 49, 17, 57, 25]"
   ]
  },
  {
   "cell_type": "code",
   "execution_count": 5,
   "id": "ba02231b",
   "metadata": {},
   "outputs": [],
   "source": [
    "def encrypt(pt, rkb, rk,myList):\n",
    "    pt = hex2bin(pt)\n",
    "\n",
    "    # Initial Permutation\n",
    "    pt = permute(pt, initial_perm, 64)\n",
    "   # print(\"After initial permutation\", bin2hex(pt))\n",
    "\n",
    "    # Splitting\n",
    "    left = pt[0:32]\n",
    "    right = pt[32:64]\n",
    "    for i in range(0, 16):\n",
    "        # Expansion D-box: Expanding the 32 bits data into 48 bits\n",
    "        right_expanded = permute(right, exp_d, 48)\n",
    "\n",
    "        # XOR RoundKey[i] and right_expanded\n",
    "        xor_x = xor(right_expanded, rkb[i])\n",
    "\n",
    "        # S-boxex: substituting the value from s-box table by calculating row and column\n",
    "        sbox_str = \"\"\n",
    "        for j in range(0, 8):\n",
    "            row = bin2dec(int(xor_x[j * 6] + xor_x[j * 6 + 5]))\n",
    "            col = bin2dec(\n",
    "                int(xor_x[j * 6 + 1] + xor_x[j * 6 + 2] + xor_x[j * 6 + 3] + xor_x[j * 6 + 4]))\n",
    "            val = sbox[j][row][col]\n",
    "            sbox_str = sbox_str + dec2bin(val)\n",
    "\n",
    "        # Straight D-box: After substituting rearranging the bits\n",
    "        sbox_str = permute(sbox_str, per, 32)\n",
    "\n",
    "        # XOR left and sbox_str\n",
    "        result = xor(left, sbox_str)\n",
    "        left = result\n",
    "        \n",
    "        # Swapper\n",
    "        val1=bin2hex(left)\n",
    "        val2=bin2hex(right)\n",
    "        myList.append(val1+val2)\n",
    "        if(i != 15):\n",
    "            left, right = right, left\n",
    "\n",
    "    # Combination\n",
    "    combine = left + right\n",
    "\n",
    "    # Final permutation: final rearranging of bits to get cipher text\n",
    "    cipher_text = permute(combine, final_perm, 64)\n",
    "    return cipher_text"
   ]
  },
  {
   "cell_type": "code",
   "execution_count": 6,
   "id": "3114a131",
   "metadata": {},
   "outputs": [],
   "source": [
    "def getList(pt,key):\n",
    "    myList=[]\n",
    "    # Key generation\n",
    "    # --hex to binary\n",
    "    key = hex2bin(key)\n",
    "\n",
    "    # --parity bit drop table\n",
    "    keyp = [57, 49, 41, 33, 25, 17, 9,\n",
    "            1, 58, 50, 42, 34, 26, 18,\n",
    "            10, 2, 59, 51, 43, 35, 27,\n",
    "            19, 11, 3, 60, 52, 44, 36,\n",
    "            63, 55, 47, 39, 31, 23, 15,\n",
    "            7, 62, 54, 46, 38, 30, 22,\n",
    "            14, 6, 61, 53, 45, 37, 29,\n",
    "            21, 13, 5, 28, 20, 12, 4]\n",
    "\n",
    "    # getting 56 bit key from 64 bit using the parity bits\n",
    "    key = permute(key, keyp, 56)\n",
    "\n",
    "    # Number of bit shifts\n",
    "    shift_table = [1, 1, 2, 2,\n",
    "                2, 2, 2, 2,\n",
    "                1, 2, 2, 2,\n",
    "                2, 2, 2, 1]\n",
    "\n",
    "    # Key- Compression Table : Compression of key from 56 bits to 48 bits\n",
    "    key_comp = [14, 17, 11, 24, 1, 5,\n",
    "                3, 28, 15, 6, 21, 10,\n",
    "                23, 19, 12, 4, 26, 8,\n",
    "                16, 7, 27, 20, 13, 2,\n",
    "                41, 52, 31, 37, 47, 55,\n",
    "                30, 40, 51, 45, 33, 48,\n",
    "                44, 49, 39, 56, 34, 53,\n",
    "                46, 42, 50, 36, 29, 32]\n",
    "\n",
    "    # Splitting\n",
    "    left = key[0:28] # rkb for RoundKeys in binary\n",
    "    right = key[28:56] # rk for RoundKeys in hexadecimal\n",
    "\n",
    "    rkb = []\n",
    "    rk = []\n",
    "    for i in range(0, 16):\n",
    "        # Shifting the bits by nth shifts by checking from shift table\n",
    "        left = shift_left(left, shift_table[i])\n",
    "        right = shift_left(right, shift_table[i])\n",
    "\n",
    "        # Combination of left and right string\n",
    "        combine_str = left + right\n",
    "\n",
    "        # Compression of key from 56 to 48 bits\n",
    "        round_key = permute(combine_str, key_comp, 48)\n",
    "\n",
    "        rkb.append(round_key)\n",
    "        rk.append(bin2hex(round_key))\n",
    "\n",
    "    #print(\"Encryption\")\n",
    "    cipher_text = bin2hex(encrypt(pt, rkb, rk,myList))\n",
    "    print(\"Cipher Text : \", cipher_text)\n",
    "    \n",
    "    return myList"
   ]
  },
  {
   "cell_type": "code",
   "execution_count": null,
   "id": "9ecb7491",
   "metadata": {},
   "outputs": [],
   "source": []
  },
  {
   "cell_type": "markdown",
   "id": "11730b35",
   "metadata": {},
   "source": [
    "### 2nd stage : generate data by changing plaintexts"
   ]
  },
  {
   "cell_type": "code",
   "execution_count": null,
   "id": "78e50eb9",
   "metadata": {},
   "outputs": [],
   "source": []
  },
  {
   "cell_type": "code",
   "execution_count": 25,
   "id": "eeee6cc1",
   "metadata": {},
   "outputs": [],
   "source": [
    "pt = \"123456ABCD132536\"\n",
    "key = \"AABB09182736CCDD\""
   ]
  },
  {
   "cell_type": "code",
   "execution_count": 26,
   "id": "52e7dcb2",
   "metadata": {},
   "outputs": [],
   "source": [
    "xorPtList=[]\n",
    "for _ in range(5):\n",
    "    xorPtList.append(xorN(pt,1))\n"
   ]
  },
  {
   "cell_type": "markdown",
   "id": "71af0351",
   "metadata": {},
   "source": [
    "#### Generate 5 plaintexts by XORring 1 bit in our 64 bit plaintext"
   ]
  },
  {
   "cell_type": "code",
   "execution_count": 28,
   "id": "2572174c",
   "metadata": {},
   "outputs": [
    {
     "data": {
      "text/plain": [
       "['123456ABCD1B2536',\n",
       " '123056ABCD132536',\n",
       " '123457ABCD132536',\n",
       " '1234D6ABCD132536',\n",
       " '123456ABCD332536']"
      ]
     },
     "execution_count": 28,
     "metadata": {},
     "output_type": "execute_result"
    }
   ],
   "source": [
    "xorPtList"
   ]
  },
  {
   "cell_type": "code",
   "execution_count": 30,
   "id": "0c8601b3",
   "metadata": {},
   "outputs": [
    {
     "name": "stdout",
     "output_type": "stream",
     "text": [
      "Cipher Text :  C0B7A8D05F3A829C\n"
     ]
    }
   ],
   "source": [
    "cList=getList(pt,key) "
   ]
  },
  {
   "cell_type": "markdown",
   "id": "f16b3933",
   "metadata": {},
   "source": [
    "#### List of 16 rounds' output of original plaintext"
   ]
  },
  {
   "cell_type": "code",
   "execution_count": 32,
   "id": "f11272f6",
   "metadata": {},
   "outputs": [
    {
     "data": {
      "text/plain": [
       "['5A78E39418CA18AD',\n",
       " '4A1210F65A78E394',\n",
       " 'B80895914A1210F6',\n",
       " '236779C2B8089591',\n",
       " 'A15A4B87236779C2',\n",
       " '2E8F9C65A15A4B87',\n",
       " 'A9FC20A32E8F9C65',\n",
       " '308BEE97A9FC20A3',\n",
       " '10AF9D37308BEE97',\n",
       " '6CA6CB2010AF9D37',\n",
       " 'FF3C485F6CA6CB20',\n",
       " '22A5963BFF3C485F',\n",
       " '387CCDAA22A5963B',\n",
       " 'BD2DD2AB387CCDAA',\n",
       " 'CF26B472BD2DD2AB',\n",
       " '19BA9212CF26B472']"
      ]
     },
     "execution_count": 32,
     "metadata": {},
     "output_type": "execute_result"
    }
   ],
   "source": [
    "cList"
   ]
  },
  {
   "cell_type": "markdown",
   "id": "502f7350",
   "metadata": {},
   "source": [
    "#### List of list of 16 rounds' output of our 5 new plaintexts"
   ]
  },
  {
   "cell_type": "code",
   "execution_count": 33,
   "id": "8de5fc3a",
   "metadata": {},
   "outputs": [
    {
     "name": "stdout",
     "output_type": "stream",
     "text": [
      "Cipher Text :  71BA22BAD4AC8F6D\n",
      "Cipher Text :  8B0F8232109499C3\n",
      "Cipher Text :  4E9A90BE613153EB\n",
      "Cipher Text :  B62F4C38AAC7F2BF\n",
      "Cipher Text :  820439138FED7E4F\n"
     ]
    }
   ],
   "source": [
    "x1cL=[]\n",
    "for i in range(5):\n",
    "    x1cL.append(getList(xorPtList[i],key))"
   ]
  },
  {
   "cell_type": "code",
   "execution_count": 35,
   "id": "583a6819",
   "metadata": {},
   "outputs": [
    {
     "name": "stdout",
     "output_type": "stream",
     "text": [
      "['7B7CE31418CA38AD', '8CBB96A67B7CE314', 'C516FDAF8CBB96A6', '7B26AE43C516FDAF', '66299AD17B26AE43', '4953F32766299AD1', 'F23C81D34953F327', '239D9DDCF23C81D3', '89CAF49A239D9DDC', 'BC32822589CAF49A', '19ACF7C3BC328225', '2066587C19ACF7C3', '989EBEBD2066587C', '0B944EB1989EBEBD', '7AAFEA4E0B944EB1', '911BF0C17AAFEA4E']\n",
      "\n",
      "['5A78E19418CA18AD', '5A3210FE5A78E194', 'F68A52925A3210FE', '1CBBA10CF68A5292', '54646F551CBBA10C', 'E665E48F54646F55', 'E66ACFDDE665E48F', '6F3B05FDE66ACFDD', '7ACA85FA6F3B05FD', '9D3D5CA37ACA85FA', '24581D399D3D5CA3', '6B0CB33624581D39', '4FB468926B0CB336', 'F5CE00624FB46892', 'E508438FF5CE0062', '807822C3E508438F']\n",
      "\n",
      "['5A78E39018CA18AD', '4A1018F65A78E390', '1908B55D4A1018F6', '4DDDFC7E1908B55D', '51785EF94DDDFC7E', '667B884151785EF9', '63E3D8F3667B8841', '35ED065763E3D8F3', 'FF9164B235ED0657', 'B0753747FF9164B2', '92D53185B0753747', 'FC4EFA3392D53185', 'EA075977FC4EFA33', '66ACD268EA075977', '8EB88BCB66ACD268', 'D16E09F08EB88BCB']\n",
      "\n",
      "['1A70E3841CCA18AD', '48430AD11A70E384', '579B1B1B48430AD1', 'FE591BF9579B1B1B', '046576FAFE591BF9', 'D4918C8A046576FA', 'A26F178CD4918C8A', 'BD23ADC9A26F178C', 'C6E5F7C0BD23ADC9', 'A51319D2C6E5F7C0', '7891BB77A51319D2', 'FBCA615B7891BB77', '9038E668FBCA615B', 'AB93A9DC9038E668', 'F1DB9EF3AB93A9DC', '64C9A7A2F1DB9EF3']\n",
      "\n",
      "['5E79E29018EA18AD', 'B8583C3F5E79E290', '36474C7FB8583C3F', 'B169132936474C7F', 'BD3E175AB1691329', '38423024BD3E175A', '3F30C6FD38423024', '4079FF613F30C6FD', 'EEC168B14079FF61', '2D0C1C49EEC168B1', '2FC95C2D2D0C1C49', 'EBC9A8F52FC95C2D', 'F4BAED23EBC9A8F5', 'C7475779F4BAED23', '3164F4D9C7475779', 'E04CF2BC3164F4D9']\n",
      "\n"
     ]
    }
   ],
   "source": [
    "for i in x1cL:\n",
    "    print(i)\n",
    "    print()"
   ]
  },
  {
   "cell_type": "markdown",
   "id": "86352f48",
   "metadata": {},
   "source": [
    "#### calculating hamming distances and generating data for plotting"
   ]
  },
  {
   "cell_type": "code",
   "execution_count": null,
   "id": "dafbd6f5",
   "metadata": {},
   "outputs": [],
   "source": []
  },
  {
   "cell_type": "code",
   "execution_count": null,
   "id": "556bbc8d",
   "metadata": {},
   "outputs": [],
   "source": []
  },
  {
   "cell_type": "code",
   "execution_count": 44,
   "id": "2fa1a7aa",
   "metadata": {},
   "outputs": [],
   "source": [
    "finalList=[] \n",
    "# It will contain list of 16 rounds' HD of XORed plaintexts with that of original plaintexts"
   ]
  },
  {
   "cell_type": "code",
   "execution_count": 45,
   "id": "5b59a8c5",
   "metadata": {},
   "outputs": [
    {
     "name": "stdout",
     "output_type": "stream",
     "text": [
      "[5, 17, 31, 31, 31, 36, 31, 28, 32, 28, 29, 32, 29, 32, 34, 30]\n",
      "[1, 4, 16, 33, 37, 34, 39, 41, 34, 33, 35, 30, 29, 31, 36, 35]\n",
      "[1, 3, 10, 26, 33, 26, 27, 28, 33, 42, 41, 37, 36, 31, 30, 34]\n",
      "[4, 14, 29, 37, 40, 39, 35, 32, 34, 37, 35, 37, 32, 33, 38, 35]\n",
      "[5, 19, 35, 36, 32, 30, 32, 34, 37, 37, 31, 33, 30, 28, 31, 34]\n"
     ]
    }
   ],
   "source": [
    "for i in range(5):\n",
    "    tempL=[]\n",
    "    for s1,s2 in zip(cList,x1cL[i]):\n",
    "        tempL.append(hd(s1,s2))\n",
    "    print(tempL)\n",
    "    finalList.append(tempL)\n",
    "        "
   ]
  },
  {
   "cell_type": "code",
   "execution_count": 51,
   "id": "a86721b1",
   "metadata": {},
   "outputs": [],
   "source": [
    "from itertools import zip_longest\n",
    "tranposed_tuples = zip_longest(*finalList, fillvalue=None)\n",
    "transposed_tuples_list = list(tranposed_tuples)\n",
    "data = [list(sublist) for sublist in transposed_tuples_list]"
   ]
  },
  {
   "cell_type": "code",
   "execution_count": 52,
   "id": "a0b95713",
   "metadata": {},
   "outputs": [
    {
     "data": {
      "text/plain": [
       "[[5, 1, 1, 4, 5],\n",
       " [17, 4, 3, 14, 19],\n",
       " [31, 16, 10, 29, 35],\n",
       " [31, 33, 26, 37, 36],\n",
       " [31, 37, 33, 40, 32],\n",
       " [36, 34, 26, 39, 30],\n",
       " [31, 39, 27, 35, 32],\n",
       " [28, 41, 28, 32, 34],\n",
       " [32, 34, 33, 34, 37],\n",
       " [28, 33, 42, 37, 37],\n",
       " [29, 35, 41, 35, 31],\n",
       " [32, 30, 37, 37, 33],\n",
       " [29, 29, 36, 32, 30],\n",
       " [32, 31, 31, 33, 28],\n",
       " [34, 36, 30, 38, 31],\n",
       " [30, 35, 34, 35, 34]]"
      ]
     },
     "execution_count": 52,
     "metadata": {},
     "output_type": "execute_result"
    }
   ],
   "source": [
    "data"
   ]
  },
  {
   "cell_type": "code",
   "execution_count": null,
   "id": "7f01c24d",
   "metadata": {},
   "outputs": [],
   "source": []
  },
  {
   "cell_type": "code",
   "execution_count": 53,
   "id": "0ab96822",
   "metadata": {},
   "outputs": [],
   "source": [
    "import matplotlib.pyplot as plt\n",
    "import pandas as pd"
   ]
  },
  {
   "cell_type": "code",
   "execution_count": 56,
   "id": "d8dbc415",
   "metadata": {},
   "outputs": [
    {
     "data": {
      "image/png": "[encoded data removed]",
      "text/plain": [
       "<Figure size 1000x700 with 1 Axes>"
      ]
     },
     "metadata": {},
     "output_type": "display_data"
    }
   ],
   "source": [
    "fig = plt.figure(figsize =(10, 7))\n",
    "ax = fig.add_subplot(111)\n",
    "plt.rcParams[\"figure.figsize\"] = [250, 200]\n",
    "# Creating axes instance\n",
    "bp = ax.boxplot(data)\n",
    "plt.show()"
   ]
  },
  {
   "cell_type": "code",
   "execution_count": null,
   "id": "4555b3cb",
   "metadata": {},
   "outputs": [],
   "source": []
  }
 ],
 "metadata": {
  "kernelspec": {
   "display_name": "Python 3 (ipykernel)",
   "language": "python",
   "name": "python3"
  },
  "language_info": {
   "codemirror_mode": {
    "name": "ipython",
    "version": 3
   },
   "file_extension": ".py",
   "mimetype": "text/x-python",
   "name": "python",
   "nbconvert_exporter": "python",
   "pygments_lexer": "ipython3",
   "version": "3.11.1"
  }
 },
 "nbformat": 4,
 "nbformat_minor": 5
}
